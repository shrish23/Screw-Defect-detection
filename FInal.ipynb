{
 "cells": [
  {
   "cell_type": "code",
   "execution_count": 1,
   "id": "d2bef832-3382-4174-8ecf-0ee2b16751be",
   "metadata": {},
   "outputs": [
    {
     "name": "stderr",
     "output_type": "stream",
     "text": [
      "/home/sharma.shris/.conda/envs/newvenv/lib/python3.12/site-packages/tqdm/auto.py:21: TqdmWarning: IProgress not found. Please update jupyter and ipywidgets. See https://ipywidgets.readthedocs.io/en/stable/user_install.html\n",
      "  from .autonotebook import tqdm as notebook_tqdm\n"
     ]
    }
   ],
   "source": [
    "from transformers import (\n",
    "    Mask2FormerForUniversalSegmentation, Mask2FormerImageProcessor\n",
    ")\n",
    "from config import VIS_LABEL_MAP as LABEL_COLORS_LIST\n",
    "from utils import (\n",
    "    draw_segmentation_map, \n",
    "    image_overlay,\n",
    "    predict\n",
    ")\n",
    "\n",
    "import argparse\n",
    "import cv2\n",
    "import os\n",
    "import glob"
   ]
  },
  {
   "cell_type": "code",
   "execution_count": 2,
   "id": "8feb90de-f00d-4571-b657-e6eb95db785c",
   "metadata": {},
   "outputs": [
    {
     "name": "stdin",
     "output_type": "stream",
     "text": [
      "Enter the path to the input image file:  /home/sharma.shris/VisualQA/Dataset/valid_images/083.png\n",
      "Enter the compute device (cpu or cuda):  \n",
      "Enter the path to the pretrained model:  \n"
     ]
    }
   ],
   "source": [
    "# Take inputs from the user\n",
    "image_path = input(\"Enter the path to the input image file: \").strip()\n",
    "device = input(\"Enter the compute device (cpu or cuda): \").strip() or \"cuda:0\"\n",
    "model_path = input(\"Enter the path to the pretrained model: \").strip() or \"outputs3/final_model\""
   ]
  },
  {
   "cell_type": "code",
   "execution_count": 3,
   "id": "c8b847a4-f496-4d33-ad71-93b3087e3b65",
   "metadata": {},
   "outputs": [
    {
     "name": "stdin",
     "output_type": "stream",
     "text": [
      "Enter the width and height for resizing (e.g., 512 512), or press Enter to skip:  400 400\n"
     ]
    }
   ],
   "source": [
    "imgsz_input = input(\"Enter the width and height for resizing (e.g., 512 512), or press Enter to skip: \").strip()\n",
    "imgsz = list(map(int, imgsz_input.split())) if imgsz_input else None\n",
    "\n",
    "# Output directory\n",
    "out_dir = 'outputs3/model_test_infer'\n",
    "os.makedirs(out_dir, exist_ok=True)"
   ]
  },
  {
   "cell_type": "code",
   "execution_count": 4,
   "id": "cfced7ed-4a41-4a03-9cb4-b148a52b99c6",
   "metadata": {},
   "outputs": [
    {
     "name": "stdout",
     "output_type": "stream",
     "text": [
      "Processed image saved at: outputs3/model_test_infer/083.png\n"
     ]
    }
   ],
   "source": [
    "processor = Mask2FormerImageProcessor()\n",
    "model = Mask2FormerForUniversalSegmentation.from_pretrained(model_path)\n",
    "model.to(device).eval()\n",
    "\n",
    "# Read the input image\n",
    "image = cv2.imread(image_path)\n",
    "\n",
    "if image is None:\n",
    "    raise ValueError(f\"Could not read the image from path: {image_path}\")\n",
    "\n",
    "# Resize image if specified\n",
    "if imgsz is not None:\n",
    "    image = cv2.resize(image, (imgsz[0], imgsz[1]))\n",
    "\n",
    "# Convert to RGB\n",
    "image = cv2.cvtColor(image, cv2.COLOR_BGR2RGB)\n",
    "\n",
    "# Predict labels\n",
    "labels = predict(model, processor, image, device)\n",
    "\n",
    "# Generate segmentation map\n",
    "seg_map = draw_segmentation_map(\n",
    "    labels.cpu(), LABEL_COLORS_LIST\n",
    ")\n",
    "\n",
    "# Overlay segmentation map on the image\n",
    "outputs = image_overlay(image, seg_map)\n",
    "\n",
    "# Save result\n",
    "image_name = os.path.basename(image_path)\n",
    "save_path = os.path.join(out_dir, image_name)\n",
    "cv2.imwrite(save_path, outputs)\n",
    "\n",
    "print(f\"Processed image saved at: {save_path}\")"
   ]
  },
  {
   "cell_type": "code",
   "execution_count": 5,
   "id": "22e97418-188d-4266-a38c-7369da13ae6a",
   "metadata": {},
   "outputs": [
    {
     "name": "stderr",
     "output_type": "stream",
     "text": [
      "`Qwen2VLRotaryEmbedding` can now be fully parameterized by passing the model config through the `config` argument. All other arguments will be removed in v4.46\n",
      "Loading checkpoint shards: 100%|██████████| 5/5 [02:24<00:00, 28.81s/it]\n"
     ]
    }
   ],
   "source": [
    "from transformers import Qwen2VLForConditionalGeneration, AutoTokenizer, AutoProcessor\n",
    "from qwen_vl_utils import process_vision_info\n",
    "import torch\n",
    "\n",
    "# default: Load the model on the available device(s)\n",
    "model = Qwen2VLForConditionalGeneration.from_pretrained(\n",
    "    \"Qwen/Qwen2-VL-7B-Instruct\", torch_dtype=torch.float16, device_map=\"auto\"\n",
    ")\n",
    "\n",
    "processor = AutoProcessor.from_pretrained(\"Qwen/Qwen2-VL-7B-Instruct\")"
   ]
  },
  {
   "cell_type": "code",
   "execution_count": 6,
   "id": "6a3abbd8-9821-4603-839f-a7224d4ed93e",
   "metadata": {},
   "outputs": [],
   "source": [
    "messages = [\n",
    "    {\n",
    "        \"role\": \"user\",\n",
    "        \"content\": [\n",
    "            {\n",
    "        \"type\": \"image\",\n",
    "        \"image\": \"/home/sharma.shris/VisualQA/Dataset/segmented_images/overlay_000.png\",\n",
    "        \"resized_height\": 400,\n",
    "        \"resized_width\": 400,\n",
    "    },\n",
    "    {\n",
    "        \"type\": \"text\",\n",
    "        \"text\": \"Example: Image of a defective screw with defect 'manipulated front' highlighted with red color\"\n",
    "    },\n",
    "    {\n",
    "        \"type\": \"image\",\n",
    "        \"image\": \"/home/sharma.shris/VisualQA/Dataset/segmented_images/overlay_004.png\",\n",
    "        \"resized_height\": 400,\n",
    "        \"resized_width\": 400,\n",
    "    },\n",
    "    {\n",
    "        \"type\": \"text\",\n",
    "        \"text\": \"Example: Image of a defective screw with defect 'manipulated front' highlighted with red color\"\n",
    "    },\n",
    "    {\n",
    "        \"type\": \"image\",\n",
    "        \"image\": \"/home/sharma.shris/VisualQA/Dataset/segmented_images/overlay_032.png\",\n",
    "        \"resized_height\": 400,\n",
    "        \"resized_width\": 400,\n",
    "    },\n",
    "    {\n",
    "        \"type\": \"text\",\n",
    "        \"text\": \"Example: Image of a defective screw with defect 'scratch head' highlighted with red color\"\n",
    "    },\n",
    "    {\n",
    "        \"type\": \"image\",\n",
    "        \"image\": \"/home/sharma.shris/VisualQA/Dataset/segmented_images/overlay_047.png\",\n",
    "        \"resized_height\": 400,\n",
    "        \"resized_width\": 400,\n",
    "    },\n",
    "    {\n",
    "        \"type\": \"text\",\n",
    "        \"text\": \"Example: Image of a defective screw with defect 'scratch head' highlighted with red color\"\n",
    "    },\n",
    "    {\n",
    "        \"type\": \"image\",\n",
    "        \"image\": \"/home/sharma.shris/VisualQA/Dataset/segmented_images/overlay_049.png\",\n",
    "        \"resized_height\": 400,\n",
    "        \"resized_width\": 400,\n",
    "    },\n",
    "    {\n",
    "        \"type\": \"text\",\n",
    "        \"text\": \"Example: Image of a defective screw with defect 'scratch neck' highlighted with red color\"\n",
    "    },\n",
    "    {\n",
    "        \"type\": \"image\",\n",
    "        \"image\": \"/home/sharma.shris/VisualQA/Dataset/segmented_images/overlay_054.png\",\n",
    "        \"resized_height\": 400,\n",
    "        \"resized_width\": 400,\n",
    "    },\n",
    "    {\n",
    "        \"type\": \"text\",\n",
    "        \"text\": \"Image of a defective screw with defect 'scratch neck' highlighted with red color\"\n",
    "    },\n",
    "    {\n",
    "        \"type\": \"image\",\n",
    "        \"image\": \"/home/sharma.shris/VisualQA/Dataset/segmented_images/overlay_079.png\",\n",
    "        \"resized_height\": 400,\n",
    "        \"resized_width\": 400,\n",
    "    },\n",
    "    {\n",
    "        \"type\": \"text\",\n",
    "        \"text\": \"Example: Image of a defective screw with defect 'thread side' highlighted with red color\"\n",
    "    },\n",
    "    {\n",
    "        \"type\": \"image\",\n",
    "        \"image\": \"/home/sharma.shris/VisualQA/Dataset/segmented_images/overlay_087.png\",\n",
    "        \"resized_height\": 400,\n",
    "        \"resized_width\": 400,\n",
    "    },\n",
    "    {\n",
    "        \"type\": \"text\",\n",
    "        \"text\": \"Example: Image of a defective screw with defect 'thread side' highlighted with red color\"\n",
    "    },\n",
    "    {\n",
    "        \"type\": \"image\",\n",
    "        \"image\": \"/home/sharma.shris/VisualQA/Dataset/segmented_images/overlay_101.png\",\n",
    "        \"resized_height\": 400,\n",
    "        \"resized_width\": 400,\n",
    "    },\n",
    "    {\n",
    "        \"type\": \"text\",\n",
    "        \"text\": \"Example: Image of a defective screw with defect 'thread top' highlighted with red color\"\n",
    "    },\n",
    "    {\n",
    "        \"type\": \"image\",\n",
    "        \"image\": \"/home/sharma.shris/VisualQA/Dataset/segmented_images/overlay_109.png\",\n",
    "        \"resized_height\": 400,\n",
    "        \"resized_width\": 400,\n",
    "    },\n",
    "    {\n",
    "        \"type\": \"text\",\n",
    "        \"text\": \"Example: Image of a defective screw with defect 'thread top' highlighted with red color\"\n",
    "    },\n",
    "    {\n",
    "        \"type\": \"image\",\n",
    "        \"image\": image_path,\n",
    "    },\n",
    "    {\n",
    "        \"type\": \"text\",\n",
    "        \"text\": \"Analyze the given screw image. What defect is highlighted in red? Use one of the following defect categories: 'manipulated front', 'scratch head', 'scratch neck', 'thread side', 'thread top'.\"\n",
    "    },\n",
    "        ],\n",
    "    }\n",
    "]\n",
    "\n",
    "# Preparation for inference\n",
    "text = processor.apply_chat_template(\n",
    "    messages, tokenize=False, add_generation_prompt=True\n",
    ")\n",
    "image_inputs, video_inputs = process_vision_info(messages)\n",
    "inputs = processor(\n",
    "    text=[text],\n",
    "    images=image_inputs,\n",
    "    videos=video_inputs,\n",
    "    padding=True,\n",
    "    return_tensors=\"pt\",\n",
    ")\n",
    "inputs = inputs.to(\"cuda\")"
   ]
  },
  {
   "cell_type": "code",
   "execution_count": 7,
   "id": "0d8e2121-79d1-4710-beac-30d4b87602ba",
   "metadata": {},
   "outputs": [
    {
     "name": "stdout",
     "output_type": "stream",
     "text": [
      "[\"The defect highlighted in red in the given screw image is 'thread top'.\"]\n"
     ]
    }
   ],
   "source": [
    "generated_ids = model.generate(**inputs, max_new_tokens=128, temperature=0.7, top_p=0.8, top_k=50)\n",
    "generated_ids_trimmed = [\n",
    "    out_ids[len(in_ids) :] for in_ids, out_ids in zip(inputs.input_ids, generated_ids)\n",
    "]\n",
    "output_text = processor.batch_decode(\n",
    "    generated_ids_trimmed, skip_special_tokens=True, clean_up_tokenization_spaces=False\n",
    ")\n",
    "print(output_text)"
   ]
  },
  {
   "cell_type": "code",
   "execution_count": null,
   "id": "a3ce8cb1-7617-48fe-abac-7fb6c123556d",
   "metadata": {},
   "outputs": [],
   "source": []
  }
 ],
 "metadata": {
  "kernelspec": {
   "display_name": "newvenv",
   "language": "python",
   "name": "newvenv"
  },
  "language_info": {
   "codemirror_mode": {
    "name": "ipython",
    "version": 3
   },
   "file_extension": ".py",
   "mimetype": "text/x-python",
   "name": "python",
   "nbconvert_exporter": "python",
   "pygments_lexer": "ipython3",
   "version": "3.12.7"
  }
 },
 "nbformat": 4,
 "nbformat_minor": 5
}
